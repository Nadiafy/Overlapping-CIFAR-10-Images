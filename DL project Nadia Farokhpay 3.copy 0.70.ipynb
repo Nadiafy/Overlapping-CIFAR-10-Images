{
  "cells": [
    {
      "cell_type": "markdown",
      "metadata": {
        "id": "mE7oyG0wv6e0"
      },
      "source": [
        "#Separation of CIFAR-10 Images\n",
        "\n",
        "The model takes as input an image created by averaging two random samples from CIFAR-10 and is tasked with predicting the categories of the two components.\n",
        "\n",
        "The first image belongs to the first five categories (airplane, automobile, bird, cat, deer), while the second belongs to the remaining categories (dog, frog, horse, ship, truck). The model must return two labels, each within a range of five possible values.\n",
        "\n",
        "The evaluation metric for the model is as follows: calculate the classification accuracy for the two component images and then compute their average.\n",
        "\n",
        "The metric should be evaluated on 10,000 inputs generated from test data. Repeat the calculation 10 times and measure the standard deviation, which must be reported.\n",
        "\n",
        "A data generator and some examples are provided below."
      ]
    },
    {
      "cell_type": "markdown",
      "metadata": {
        "id": "USdmzjiO0W6D"
      },
      "source": [
        "#Data preparation"
      ]
    },
    {
      "cell_type": "code",
      "execution_count": 1,
      "metadata": {
        "id": "iHjnh5XP0Sq4"
      },
      "outputs": [],
      "source": [
        "import tensorflow as tf\n",
        "from tensorflow.keras import layers\n",
        "from tensorflow.keras.models import Model\n",
        "from tensorflow.keras.datasets import cifar10\n",
        "from tensorflow.keras import layers, Model\n",
        "from tensorflow.keras.optimizers import Adam\n",
        "from tensorflow.keras.callbacks import EarlyStopping, ReduceLROnPlateau\n",
        "\n",
        "import numpy as np\n",
        "from matplotlib import pyplot as plt"
      ]
    },
    {
      "cell_type": "code",
      "execution_count": 2,
      "metadata": {
        "colab": {
          "base_uri": "https://localhost:8080/"
        },
        "id": "yRYiW2ipukZF",
        "outputId": "0d5c8981-51da-4c92-de73-84bcac11aa2c"
      },
      "outputs": [],
      "source": [
        "(cifar10_x_train, cifar10_y_train), (cifar10_x_test, cifar10_y_test) = cifar10.load_data()\n",
        "\n",
        "# Ensures the data has expected dimensions.\n",
        "assert cifar10_x_train.shape == (50000, 32, 32, 3)\n",
        "assert cifar10_x_test.shape == (10000, 32, 32, 3)\n",
        "assert cifar10_y_train.shape == (50000, 1)\n",
        "assert cifar10_y_test.shape == (10000, 1)\n",
        "\n",
        "# Class labels for CIFAR-10 dataset\n",
        "classes = [\"airplane\", \"automobile\", \"bird\", \"cat\", \"deer\", \"dog\", \"frog\", \"horse\", \"ship\", \"truck\"]\n",
        "\n",
        "# Scales pixel values to [0, 1] for better model performance.\n",
        "cifar10_x_train = (cifar10_x_train/255.).astype(np.float32)\n",
        "cifar10_x_test = (cifar10_x_test/255.).astype(np.float32)"
      ]
    },
    {
      "cell_type": "markdown",
      "metadata": {
        "id": "ZkiGnU4d0k4d"
      },
      "source": [
        "Let us split the images in two groups, according to their label."
      ]
    },
    {
      "cell_type": "code",
      "execution_count": 3,
      "metadata": {
        "id": "Dpey42Vo07Yb"
      },
      "outputs": [],
      "source": [
        "# Separates training data into Group 1 (classes 0-4) and Group 2 (classes 5-9).\n",
        "# Split training data based on class labels (<5 and >=5)\n",
        "cond_1 = cifar10_y_train[:,0] < 5\n",
        "cifar10_x_train_1 = cifar10_x_train[cond_1]\n",
        "cifar10_y_train_1 = cifar10_y_train[cond_1]\n",
        "\n",
        "cond_2 = cifar10_y_train[:,0] >= 5\n",
        "cifar10_x_train_2 = cifar10_x_train[cond_2]\n",
        "cifar10_y_train_2 = cifar10_y_train[cond_2]\n",
        "\n",
        "# Separates testing data into Group 1 (classes 0-4) and Group 2 (classes 5-9).\n",
        "# Split test data based on class labels (<5 and >=5)\n",
        "cond_1_test = cifar10_y_test[:,0] < 5\n",
        "cifar10_x_test_1 = cifar10_x_test[cond_1_test]\n",
        "cifar10_y_test_1 = cifar10_y_test[cond_1_test]\n",
        "\n",
        "cond_2_test = cifar10_y_test[:,0] >= 5\n",
        "cifar10_x_test_2 = cifar10_x_test[cond_2_test]\n",
        "cifar10_y_test_2 = cifar10_y_test[cond_2_test]"
      ]
    },
    {
      "cell_type": "markdown",
      "metadata": {
        "id": "qmLYNuR-0s0m"
      },
      "source": [
        "Now we can define the generator. The input consists of two datasets (X1,X2), their corresponding labels (Y1,Y2), and a batch size.\n",
        "\n",
        "The generator returns (x_data,y_data), where:\n",
        "* x_data is a batch of images obtained by averaging random samples from X1 and X2.\n",
        "* y_data is a pair of batches of labels corresponding to the component images, expressed in categorical format."
      ]
    },
    {
      "cell_type": "code",
      "execution_count": 4,
      "metadata": {
        "id": "7Y5Zpv5fw2hd"
      },
      "outputs": [],
      "source": [
        "# Data generator function to create mixed batches of samples from two subsets\n",
        "def datagenerator(X1,X2,Y1,Y2,batchsize):\n",
        "  size1 = X1.shape[0]\n",
        "  size2 = X2.shape[0]\n",
        "  Y1_cat = tf.keras.utils.to_categorical(Y1, num_classes=5)\n",
        "  Y2_cat = tf.keras.utils.to_categorical(Y2-5, num_classes=5)\n",
        "  # Convert labels to one-hot encoding\n",
        "  while True:\n",
        "    # Randomly sample indices for both subsets\n",
        "    num1 = np.random.randint(0, size1, batchsize)\n",
        "    num2 = np.random.randint(0, size2, batchsize)\n",
        "    \n",
        "    # Combine samples from both subsets\n",
        "    x_data = (X1[num1] + X2[num2]) / 2.0\n",
        "    y_data = (Y1_cat[num1],Y2_cat[num2])\n",
        "\n",
        "    yield x_data, y_data"
      ]
    },
    {
      "cell_type": "markdown",
      "metadata": {
        "id": "Z9lf3TuP2pdQ"
      },
      "source": [
        "\n",
        "Let us instantiate a generator on Cifar10 with batchsize=1, and let's see its behaviour."
      ]
    },
    {
      "cell_type": "code",
      "execution_count": 5,
      "metadata": {
        "id": "29TldJ6-720b"
      },
      "outputs": [],
      "source": [
        "# Tests the generator by visualizing a sample mixed image and its predicted labels.\n",
        "datagen = datagenerator(cifar10_x_train_1,cifar10_x_train_2,cifar10_y_train_1,cifar10_y_train_2,1)"
      ]
    },
    {
      "cell_type": "markdown",
      "metadata": {
        "id": "W1DrJVzI3ysV"
      },
      "source": [
        "Let's generate an example, display the image that the model will take as input, and print the categories of the two overlapping components.\n",
        "\n",
        "You can re-run the cell to display new examples."
      ]
    },
    {
      "cell_type": "code",
      "execution_count": 6,
      "metadata": {
        "colab": {
          "base_uri": "https://localhost:8080/",
          "height": 465
        },
        "id": "qL1sMtjG8VmG",
        "outputId": "5b9d6599-d407-4e32-dad7-f3f95890f0b2"
      },
      "outputs": [
        {
          "name": "stdout",
          "output_type": "stream",
          "text": [
            "first: cat, second = dog\n"
          ]
        },
        {
          "data": {
            "text/plain": [
              "<matplotlib.image.AxesImage at 0x304d4dff0>"
            ]
          },
          "execution_count": 6,
          "metadata": {},
          "output_type": "execute_result"
        },
        {
          "data": {
            "image/png": "[encoded data removed]",
            "text/plain": [
              "<Figure size 640x480 with 1 Axes>"
            ]
          },
          "metadata": {},
          "output_type": "display_data"
        }
      ],
      "source": [
        "# Test the generator\n",
        "x, y = next(datagen)\n",
        "\n",
        "print(\"first: {}, second = {}\".format(classes[np.argmax(y[0][0])],classes[np.argmax(y[1][0])+5]))\n",
        "#print(np.min(x[0]),np.max(x[0]))\n",
        "plt.imshow(x[0])"
      ]
    },
    {
      "cell_type": "markdown",
      "metadata": {
        "id": "l5lzBotwL5QN"
      },
      "source": [
        "# Model Evaluation"
      ]
    },
    {
      "cell_type": "markdown",
      "metadata": {
        "id": "9_p4UuG1QF8t"
      },
      "source": [
        "Let us define first of all the test generator."
      ]
    },
    {
      "cell_type": "code",
      "execution_count": 7,
      "metadata": {
        "colab": {
          "base_uri": "https://localhost:8080/"
        },
        "id": "cQo8_6w-L4WY",
        "outputId": "a626a55c-7df8-456b-adcd-580d4166e184"
      },
      "outputs": [
        {
          "name": "stdout",
          "output_type": "stream",
          "text": [
            "(10000, 32, 32, 3)\n"
          ]
        }
      ],
      "source": [
        "# Generate test samples for evaluation\n",
        "testgen = datagenerator(cifar10_x_test_1,cifar10_x_test_2,cifar10_y_test_1,cifar10_y_test_2,10000)\n",
        "eval_samples_x, eval_samples_y = next(testgen)\n",
        "print(eval_samples_x.shape)\n",
        "# Ensure the batch size matches your evaluation needs."
      ]
    },
    {
      "cell_type": "markdown",
      "metadata": {
        "id": "4MiLnkKROGCD"
      },
      "source": [
        "We now test a model producing random guesses. You will need to replace it with your own predictive model."
      ]
    },
    {
      "cell_type": "code",
      "execution_count": 8,
      "metadata": {
        "id": "1GllTEtPN_xv"
      },
      "outputs": [
        {
          "name": "stderr",
          "output_type": "stream",
          "text": [
            "2025-01-11 00:44:02.943570: I metal_plugin/src/device/metal_device.cc:1154] Metal device set to: Apple M1\n",
            "2025-01-11 00:44:02.943594: I metal_plugin/src/device/metal_device.cc:296] systemMemory: 8.00 GB\n",
            "2025-01-11 00:44:02.943612: I metal_plugin/src/device/metal_device.cc:313] maxCacheSize: 2.67 GB\n",
            "2025-01-11 00:44:02.943823: I tensorflow/core/common_runtime/pluggable_device/pluggable_device_factory.cc:305] Could not identify NUMA node of platform GPU ID 0, defaulting to 0. Your kernel may not have been built with NUMA support.\n",
            "2025-01-11 00:44:02.943837: I tensorflow/core/common_runtime/pluggable_device/pluggable_device_factory.cc:271] Created TensorFlow device (/job:localhost/replica:0/task:0/device:GPU:0 with 0 MB memory) -> physical PluggableDevice (device: 0, name: METAL, pci bus id: <undefined>)\n"
          ]
        },
        {
          "name": "stdout",
          "output_type": "stream",
          "text": [
            "Epoch 1/20\n"
          ]
        },
        {
          "name": "stderr",
          "output_type": "stream",
          "text": [
            "2025-01-11 00:44:03.909647: I tensorflow/core/grappler/optimizers/custom_graph_optimizer_registry.cc:117] Plugin optimizer for device_type GPU is enabled.\n"
          ]
        },
        {
          "name": "stdout",
          "output_type": "stream",
          "text": [
            "\u001b[1m781/781\u001b[0m \u001b[32m━━━━━━━━━━━━━━━━━━━━\u001b[0m\u001b[37m\u001b[0m \u001b[1m55s\u001b[0m 62ms/step - loss: 2.6588 - output_1_accuracy: 0.4220 - output_1_loss: 1.3794 - output_2_accuracy: 0.4826 - output_2_loss: 1.2794 - val_loss: 2.7850 - val_output_1_accuracy: 0.3706 - val_output_1_loss: 1.5251 - val_output_2_accuracy: 0.5245 - val_output_2_loss: 1.2599 - learning_rate: 5.0000e-04\n",
            "Epoch 2/20\n",
            "\u001b[1m781/781\u001b[0m \u001b[32m━━━━━━━━━━━━━━━━━━━━\u001b[0m\u001b[37m\u001b[0m \u001b[1m48s\u001b[0m 62ms/step - loss: 2.2247 - output_1_accuracy: 0.5030 - output_1_loss: 1.2143 - output_2_accuracy: 0.6068 - output_2_loss: 1.0105 - val_loss: 3.8082 - val_output_1_accuracy: 0.4682 - val_output_1_loss: 1.3581 - val_output_2_accuracy: 0.3719 - val_output_2_loss: 2.4500 - learning_rate: 5.0000e-04\n",
            "Epoch 3/20\n",
            "\u001b[1m781/781\u001b[0m \u001b[32m━━━━━━━━━━━━━━━━━━━━\u001b[0m\u001b[37m\u001b[0m \u001b[1m48s\u001b[0m 62ms/step - loss: 2.0701 - output_1_accuracy: 0.5348 - output_1_loss: 1.1441 - output_2_accuracy: 0.6449 - output_2_loss: 0.9260 - val_loss: 2.0528 - val_output_1_accuracy: 0.5611 - val_output_1_loss: 1.0937 - val_output_2_accuracy: 0.6322 - val_output_2_loss: 0.9591 - learning_rate: 5.0000e-04\n",
            "Epoch 4/20\n",
            "\u001b[1m781/781\u001b[0m \u001b[32m━━━━━━━━━━━━━━━━━━━━\u001b[0m\u001b[37m\u001b[0m \u001b[1m48s\u001b[0m 61ms/step - loss: 1.9896 - output_1_accuracy: 0.5593 - output_1_loss: 1.1041 - output_2_accuracy: 0.6618 - output_2_loss: 0.8855 - val_loss: 2.1317 - val_output_1_accuracy: 0.5297 - val_output_1_loss: 1.1978 - val_output_2_accuracy: 0.6327 - val_output_2_loss: 0.9339 - learning_rate: 5.0000e-04\n",
            "Epoch 5/20\n",
            "\u001b[1m781/781\u001b[0m \u001b[32m━━━━━━━━━━━━━━━━━━━━\u001b[0m\u001b[37m\u001b[0m \u001b[1m48s\u001b[0m 61ms/step - loss: 1.9131 - output_1_accuracy: 0.5719 - output_1_loss: 1.0658 - output_2_accuracy: 0.6764 - output_2_loss: 0.8473 - val_loss: 2.1685 - val_output_1_accuracy: 0.5085 - val_output_1_loss: 1.1648 - val_output_2_accuracy: 0.6204 - val_output_2_loss: 1.0038 - learning_rate: 5.0000e-04\n",
            "Epoch 6/20\n",
            "\u001b[1m781/781\u001b[0m \u001b[32m━━━━━━━━━━━━━━━━━━━━\u001b[0m\u001b[37m\u001b[0m \u001b[1m48s\u001b[0m 61ms/step - loss: 1.8543 - output_1_accuracy: 0.5887 - output_1_loss: 1.0339 - output_2_accuracy: 0.6901 - output_2_loss: 0.8204 - val_loss: 2.5930 - val_output_1_accuracy: 0.5097 - val_output_1_loss: 1.2506 - val_output_2_accuracy: 0.5054 - val_output_2_loss: 1.3424 - learning_rate: 5.0000e-04\n",
            "Epoch 7/20\n",
            "\u001b[1m781/781\u001b[0m \u001b[32m━━━━━━━━━━━━━━━━━━━━\u001b[0m\u001b[37m\u001b[0m \u001b[1m50s\u001b[0m 64ms/step - loss: 1.7916 - output_1_accuracy: 0.6016 - output_1_loss: 1.0069 - output_2_accuracy: 0.7066 - output_2_loss: 0.7846 - val_loss: 2.3422 - val_output_1_accuracy: 0.5927 - val_output_1_loss: 1.0098 - val_output_2_accuracy: 0.5135 - val_output_2_loss: 1.3324 - learning_rate: 2.5000e-04\n",
            "Epoch 8/20\n",
            "\u001b[1m781/781\u001b[0m \u001b[32m━━━━━━━━━━━━━━━━━━━━\u001b[0m\u001b[37m\u001b[0m \u001b[1m48s\u001b[0m 61ms/step - loss: 1.7285 - output_1_accuracy: 0.6125 - output_1_loss: 0.9830 - output_2_accuracy: 0.7189 - output_2_loss: 0.7456 - val_loss: 1.8233 - val_output_1_accuracy: 0.6030 - val_output_1_loss: 1.0022 - val_output_2_accuracy: 0.6881 - val_output_2_loss: 0.8211 - learning_rate: 2.5000e-04\n",
            "Epoch 9/20\n",
            "\u001b[1m781/781\u001b[0m \u001b[32m━━━━━━━━━━━━━━━━━━━━\u001b[0m\u001b[37m\u001b[0m \u001b[1m49s\u001b[0m 62ms/step - loss: 1.7179 - output_1_accuracy: 0.6174 - output_1_loss: 0.9731 - output_2_accuracy: 0.7209 - output_2_loss: 0.7448 - val_loss: 1.8179 - val_output_1_accuracy: 0.6081 - val_output_1_loss: 0.9843 - val_output_2_accuracy: 0.6914 - val_output_2_loss: 0.8336 - learning_rate: 2.5000e-04\n",
            "Epoch 10/20\n",
            "\u001b[1m781/781\u001b[0m \u001b[32m━━━━━━━━━━━━━━━━━━━━\u001b[0m\u001b[37m\u001b[0m \u001b[1m48s\u001b[0m 62ms/step - loss: 1.6974 - output_1_accuracy: 0.6186 - output_1_loss: 0.9632 - output_2_accuracy: 0.7263 - output_2_loss: 0.7342 - val_loss: 1.9146 - val_output_1_accuracy: 0.5513 - val_output_1_loss: 1.1428 - val_output_2_accuracy: 0.7213 - val_output_2_loss: 0.7719 - learning_rate: 2.5000e-04\n",
            "Epoch 11/20\n",
            "\u001b[1m781/781\u001b[0m \u001b[32m━━━━━━━━━━━━━━━━━━━━\u001b[0m\u001b[37m\u001b[0m \u001b[1m48s\u001b[0m 61ms/step - loss: 1.6851 - output_1_accuracy: 0.6248 - output_1_loss: 0.9573 - output_2_accuracy: 0.7298 - output_2_loss: 0.7278 - val_loss: 2.0195 - val_output_1_accuracy: 0.6279 - val_output_1_loss: 0.9433 - val_output_2_accuracy: 0.6124 - val_output_2_loss: 1.0763 - learning_rate: 2.5000e-04\n",
            "Epoch 12/20\n",
            "\u001b[1m781/781\u001b[0m \u001b[32m━━━━━━━━━━━━━━━━━━━━\u001b[0m\u001b[37m\u001b[0m \u001b[1m48s\u001b[0m 61ms/step - loss: 1.6480 - output_1_accuracy: 0.6272 - output_1_loss: 0.9443 - output_2_accuracy: 0.7382 - output_2_loss: 0.7038 - val_loss: 3.1603 - val_output_1_accuracy: 0.5711 - val_output_1_loss: 1.0652 - val_output_2_accuracy: 0.3965 - val_output_2_loss: 2.0951 - learning_rate: 2.5000e-04\n",
            "Epoch 13/20\n",
            "\u001b[1m781/781\u001b[0m \u001b[32m━━━━━━━━━━━━━━━━━━━━\u001b[0m\u001b[37m\u001b[0m \u001b[1m48s\u001b[0m 61ms/step - loss: 1.6296 - output_1_accuracy: 0.6342 - output_1_loss: 0.9366 - output_2_accuracy: 0.7423 - output_2_loss: 0.6929 - val_loss: 1.6464 - val_output_1_accuracy: 0.6341 - val_output_1_loss: 0.9360 - val_output_2_accuracy: 0.7365 - val_output_2_loss: 0.7104 - learning_rate: 1.2500e-04\n",
            "Epoch 14/20\n",
            "\u001b[1m781/781\u001b[0m \u001b[32m━━━━━━━━━━━━━━━━━━━━\u001b[0m\u001b[37m\u001b[0m \u001b[1m47s\u001b[0m 61ms/step - loss: 1.5868 - output_1_accuracy: 0.6423 - output_1_loss: 0.9129 - output_2_accuracy: 0.7505 - output_2_loss: 0.6739 - val_loss: 1.6172 - val_output_1_accuracy: 0.6235 - val_output_1_loss: 0.9334 - val_output_2_accuracy: 0.7469 - val_output_2_loss: 0.6838 - learning_rate: 1.2500e-04\n",
            "Epoch 15/20\n",
            "\u001b[1m781/781\u001b[0m \u001b[32m━━━━━━━━━━━━━━━━━━━━\u001b[0m\u001b[37m\u001b[0m \u001b[1m48s\u001b[0m 61ms/step - loss: 1.5767 - output_1_accuracy: 0.6429 - output_1_loss: 0.9118 - output_2_accuracy: 0.7546 - output_2_loss: 0.6649 - val_loss: 1.6544 - val_output_1_accuracy: 0.6325 - val_output_1_loss: 0.9385 - val_output_2_accuracy: 0.7296 - val_output_2_loss: 0.7160 - learning_rate: 1.2500e-04\n",
            "Epoch 16/20\n",
            "\u001b[1m781/781\u001b[0m \u001b[32m━━━━━━━━━━━━━━━━━━━━\u001b[0m\u001b[37m\u001b[0m \u001b[1m48s\u001b[0m 61ms/step - loss: 1.5813 - output_1_accuracy: 0.6494 - output_1_loss: 0.9045 - output_2_accuracy: 0.7501 - output_2_loss: 0.6769 - val_loss: 1.6260 - val_output_1_accuracy: 0.6428 - val_output_1_loss: 0.9014 - val_output_2_accuracy: 0.7215 - val_output_2_loss: 0.7246 - learning_rate: 1.2500e-04\n",
            "Epoch 17/20\n",
            "\u001b[1m781/781\u001b[0m \u001b[32m━━━━━━━━━━━━━━━━━━━━\u001b[0m\u001b[37m\u001b[0m \u001b[1m48s\u001b[0m 61ms/step - loss: 1.5578 - output_1_accuracy: 0.6546 - output_1_loss: 0.8929 - output_2_accuracy: 0.7521 - output_2_loss: 0.6649 - val_loss: 1.6601 - val_output_1_accuracy: 0.6503 - val_output_1_loss: 0.8994 - val_output_2_accuracy: 0.7154 - val_output_2_loss: 0.7607 - learning_rate: 1.2500e-04\n",
            "Epoch 18/20\n",
            "\u001b[1m781/781\u001b[0m \u001b[32m━━━━━━━━━━━━━━━━━━━━\u001b[0m\u001b[37m\u001b[0m \u001b[1m48s\u001b[0m 62ms/step - loss: 1.5541 - output_1_accuracy: 0.6539 - output_1_loss: 0.8919 - output_2_accuracy: 0.7558 - output_2_loss: 0.6622 - val_loss: 1.5124 - val_output_1_accuracy: 0.6622 - val_output_1_loss: 0.8655 - val_output_2_accuracy: 0.7629 - val_output_2_loss: 0.6468 - learning_rate: 6.2500e-05\n",
            "Epoch 19/20\n",
            "\u001b[1m781/781\u001b[0m \u001b[32m━━━━━━━━━━━━━━━━━━━━\u001b[0m\u001b[37m\u001b[0m \u001b[1m48s\u001b[0m 62ms/step - loss: 1.5336 - output_1_accuracy: 0.6596 - output_1_loss: 0.8770 - output_2_accuracy: 0.7557 - output_2_loss: 0.6565 - val_loss: 1.5648 - val_output_1_accuracy: 0.6462 - val_output_1_loss: 0.9053 - val_output_2_accuracy: 0.7547 - val_output_2_loss: 0.6595 - learning_rate: 6.2500e-05\n",
            "Epoch 20/20\n",
            "\u001b[1m781/781\u001b[0m \u001b[32m━━━━━━━━━━━━━━━━━━━━\u001b[0m\u001b[37m\u001b[0m \u001b[1m49s\u001b[0m 62ms/step - loss: 1.5350 - output_1_accuracy: 0.6564 - output_1_loss: 0.8860 - output_2_accuracy: 0.7579 - output_2_loss: 0.6490 - val_loss: 1.5451 - val_output_1_accuracy: 0.6517 - val_output_1_loss: 0.8878 - val_output_2_accuracy: 0.7589 - val_output_2_loss: 0.6573 - learning_rate: 6.2500e-05\n"
          ]
        }
      ],
      "source": [
        "# Define the predictive model\n",
        "def predictive_model():\n",
        "    # Input layer\n",
        "    input_layer = layers.Input(shape=(32, 32, 3))\n",
        "\n",
        "    # Shared Convolutional Layers\n",
        "    x = layers.Conv2D(64, (3, 3), activation='relu', padding='same')(input_layer)\n",
        "    x = layers.BatchNormalization()(x)\n",
        "    x = layers.MaxPooling2D((2, 2))(x)\n",
        "    x = layers.Conv2D(128, (3, 3), activation='relu', padding='same')(x)\n",
        "    x = layers.BatchNormalization()(x)\n",
        "    x = layers.MaxPooling2D((2, 2))(x)\n",
        "    x = layers.Conv2D(256, (3, 3), activation='relu', padding='same')(x)\n",
        "    x = layers.BatchNormalization()(x)\n",
        "    x = layers.GlobalAveragePooling2D()(x)\n",
        "\n",
        "    # Dropout for regularization\n",
        "    x = layers.Dropout(0.5)(x)\n",
        "\n",
        "    # First output (classes 0-4)\n",
        "    output_1 = layers.Dense(5, activation='softmax', name='output_1')(x)\n",
        "\n",
        "    # Second output (classes 5-9)\n",
        "    output_2 = layers.Dense(5, activation='softmax', name='output_2')(x)\n",
        "\n",
        "    # Create the model\n",
        "    model = Model(inputs=input_layer, outputs=[output_1, output_2])\n",
        "    model.compile(optimizer=Adam(learning_rate=0.0005),\n",
        "                  loss={'output_1': 'categorical_crossentropy', 'output_2': 'categorical_crossentropy'},\n",
        "                  metrics={'output_1': 'accuracy', 'output_2': 'accuracy'})\n",
        "    return model\n",
        "\n",
        "# Instantiate the model\n",
        "model = predictive_model()\n",
        "\n",
        "# Train the model using the generator\n",
        "batch_size = 64\n",
        "steps_per_epoch = 50000 // batch_size\n",
        "validation_steps = 10000 // batch_size\n",
        "\n",
        "# Early stopping to prevent overfitting\n",
        "early_stopping = EarlyStopping(monitor='val_loss', patience=5, restore_best_weights=True)\n",
        "\n",
        "# Learning rate scheduler to adjust learning rate dynamically\n",
        "lr_scheduler = ReduceLROnPlateau(monitor='val_loss', factor=0.5, patience=3)\n",
        "\n",
        "history = model.fit(\n",
        "    datagenerator(cifar10_x_train_1, cifar10_x_train_2, cifar10_y_train_1, cifar10_y_train_2, batch_size),\n",
        "    steps_per_epoch=steps_per_epoch,\n",
        "    epochs=20,\n",
        "    validation_data=datagenerator(cifar10_x_test_1, cifar10_x_test_2, cifar10_y_test_1, cifar10_y_test_2, batch_size),\n",
        "    validation_steps=validation_steps,\n",
        "    callbacks=[early_stopping, lr_scheduler]\n",
        ")"
      ]
    },
    {
      "cell_type": "code",
      "execution_count": 9,
      "metadata": {
        "id": "gomFTuuDOy8A"
      },
      "outputs": [],
      "source": [
        "# Modify ------------Refactor if additional metrics are needed--------------\n",
        "\n",
        "# Evaluation function for models\n",
        "def eval_model(model):\n",
        "    eval_samples_x, eval_samples_y = next(testgen)\n",
        "    predictions = model.predict(eval_samples_x)\n",
        "    # Extract predictions for both outputs\n",
        "    pred_output_1 = np.argmax(predictions[0], axis=1)\n",
        "    pred_output_2 = np.argmax(predictions[1], axis=1)\n",
        "    \n",
        "    # Calculate accuracy for both outputs\n",
        "    correct_guesses_1 = pred_output_1 == np.argmax(eval_samples_y[0], axis=1)\n",
        "    correct_guesses_2 = pred_output_2 == np.argmax(eval_samples_y[1], axis=1)\n",
        "\n",
        "    return (np.mean(correct_guesses_1) + np.mean(correct_guesses_2)) / 2"
      ]
    },
    {
      "cell_type": "code",
      "execution_count": 10,
      "metadata": {
        "colab": {
          "base_uri": "https://localhost:8080/"
        },
        "id": "i4AL2M6yjJno",
        "outputId": "d84ecfb8-299f-4e37-85ee-c69b83a39e0c"
      },
      "outputs": [
        {
          "name": "stdout",
          "output_type": "stream",
          "text": [
            "\u001b[1m313/313\u001b[0m \u001b[32m━━━━━━━━━━━━━━━━━━━━\u001b[0m\u001b[37m\u001b[0m \u001b[1m2s\u001b[0m 6ms/step\n",
            "Average accuracy: 0.7081999999999999\n"
          ]
        }
      ],
      "source": [
        "# ------------------------------------------------------------------------------------\n",
        "average_accuracy = eval_model(model)\n",
        "print(f\"Average accuracy: {average_accuracy}\")"
      ]
    },
    {
      "cell_type": "markdown",
      "metadata": {
        "id": "7usBI88dje70"
      },
      "source": [
        "As expected, the accuracy is around 1/5 = 0.2\n",
        "\n",
        "Let us repeat the evaluation ten times, and compute the standard deviation"
      ]
    },
    {
      "cell_type": "code",
      "execution_count": 11,
      "metadata": {
        "colab": {
          "base_uri": "https://localhost:8080/"
        },
        "id": "ZFu8iEt9jdZA",
        "outputId": "93fa99f4-972a-4795-917b-b1db97dc7ff7"
      },
      "outputs": [
        {
          "name": "stdout",
          "output_type": "stream",
          "text": [
            "\u001b[1m313/313\u001b[0m \u001b[32m━━━━━━━━━━━━━━━━━━━━\u001b[0m\u001b[37m\u001b[0m \u001b[1m1s\u001b[0m 4ms/step\n",
            "\u001b[1m313/313\u001b[0m \u001b[32m━━━━━━━━━━━━━━━━━━━━\u001b[0m\u001b[37m\u001b[0m \u001b[1m1s\u001b[0m 5ms/step\n",
            "\u001b[1m313/313\u001b[0m \u001b[32m━━━━━━━━━━━━━━━━━━━━\u001b[0m\u001b[37m\u001b[0m \u001b[1m1s\u001b[0m 5ms/step\n",
            "\u001b[1m313/313\u001b[0m \u001b[32m━━━━━━━━━━━━━━━━━━━━\u001b[0m\u001b[37m\u001b[0m \u001b[1m1s\u001b[0m 5ms/step\n",
            "\u001b[1m313/313\u001b[0m \u001b[32m━━━━━━━━━━━━━━━━━━━━\u001b[0m\u001b[37m\u001b[0m \u001b[1m1s\u001b[0m 4ms/step\n",
            "\u001b[1m313/313\u001b[0m \u001b[32m━━━━━━━━━━━━━━━━━━━━\u001b[0m\u001b[37m\u001b[0m \u001b[1m1s\u001b[0m 5ms/step\n",
            "\u001b[1m313/313\u001b[0m \u001b[32m━━━━━━━━━━━━━━━━━━━━\u001b[0m\u001b[37m\u001b[0m \u001b[1m1s\u001b[0m 4ms/step\n",
            "\u001b[1m313/313\u001b[0m \u001b[32m━━━━━━━━━━━━━━━━━━━━\u001b[0m\u001b[37m\u001b[0m \u001b[1m1s\u001b[0m 4ms/step\n",
            "\u001b[1m313/313\u001b[0m \u001b[32m━━━━━━━━━━━━━━━━━━━━\u001b[0m\u001b[37m\u001b[0m \u001b[1m1s\u001b[0m 4ms/step\n",
            "\u001b[1m313/313\u001b[0m \u001b[32m━━━━━━━━━━━━━━━━━━━━\u001b[0m\u001b[37m\u001b[0m \u001b[1m1s\u001b[0m 4ms/step\n",
            "mean accuracy =  0.7095550000000002\n",
            "standard deviation =  0.004168539912247464\n"
          ]
        }
      ],
      "source": [
        "# Evaluate the random model\n",
        "repeat_eval = 10\n",
        "eval_results = []\n",
        "for i in range(repeat_eval):\n",
        "  eval_results.append(eval_model(model))\n",
        "print(\"mean accuracy = \", np.mean(eval_results))\n",
        "print(\"standard deviation = \", np.std(eval_results))"
      ]
    },
    {
      "cell_type": "code",
      "execution_count": 12,
      "metadata": {},
      "outputs": [],
      "source": [
        "model.save_weights('cifar10_model.weights.h5')"
      ]
    },
    {
      "cell_type": "markdown",
      "metadata": {
        "id": "j1yTRAzn4i9g"
      },
      "source": [
        "# What to Submit\n",
        "\n",
        "As usual, you need to submit a single notebook that must be executable on Colab. The notebook should be properly commented and include a complete record of the training process, as well as the calculation of accuracy according to the guidelines provided above.\n",
        "\n",
        "# Good luck!\n",
        "\n"
      ]
    }
  ],
  "metadata": {
    "accelerator": "GPU",
    "colab": {
      "provenance": []
    },
    "kernelspec": {
      "display_name": "3.10.3",
      "language": "python",
      "name": "python3"
    },
    "language_info": {
      "codemirror_mode": {
        "name": "ipython",
        "version": 3
      },
      "file_extension": ".py",
      "mimetype": "text/x-python",
      "name": "python",
      "nbconvert_exporter": "python",
      "pygments_lexer": "ipython3",
      "version": "3.10.3"
    }
  },
  "nbformat": 4,
  "nbformat_minor": 0
}
